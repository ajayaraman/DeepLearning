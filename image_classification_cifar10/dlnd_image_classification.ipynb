{
 "cells": [
  {
   "cell_type": "markdown",
   "metadata": {
    "collapsed": true
   },
   "source": [
    "# Image Classification\n",
    "In this project, you'll classify images from the [CIFAR-10 dataset](https://www.cs.toronto.edu/~kriz/cifar.html).  The dataset consists of airplanes, dogs, cats, and other objects. You'll preprocess the images, then train a convolutional neural network on all the samples. The images need to be normalized and the labels need to be one-hot encoded.  You'll get to apply what you learned and build a convolutional, max pooling, dropout, and fully connected layers.  At the end, you'll get to see your neural network's predictions on the sample images.\n",
    "## Get the Data\n",
    "Run the following cell to download the [CIFAR-10 dataset for python](https://www.cs.toronto.edu/~kriz/cifar-10-python.tar.gz)."
   ]
  },
  {
   "cell_type": "code",
   "execution_count": 1,
   "metadata": {
    "collapsed": false
   },
   "outputs": [
    {
     "name": "stdout",
     "output_type": "stream",
     "text": [
      "All files found!\n"
     ]
    }
   ],
   "source": [
    "\"\"\"\n",
    "DON'T MODIFY ANYTHING IN THIS CELL THAT IS BELOW THIS LINE\n",
    "\"\"\"\n",
    "from urllib.request import urlretrieve\n",
    "from os.path import isfile, isdir\n",
    "from tqdm import tqdm\n",
    "import problem_unittests as tests\n",
    "import tarfile\n",
    "\n",
    "cifar10_dataset_folder_path = 'cifar-10-batches-py'\n",
    "\n",
    "class DLProgress(tqdm):\n",
    "    last_block = 0\n",
    "\n",
    "    def hook(self, block_num=1, block_size=1, total_size=None):\n",
    "        self.total = total_size\n",
    "        self.update((block_num - self.last_block) * block_size)\n",
    "        self.last_block = block_num\n",
    "\n",
    "if not isfile('cifar-10-python.tar.gz'):\n",
    "    with DLProgress(unit='B', unit_scale=True, miniters=1, desc='CIFAR-10 Dataset') as pbar:\n",
    "        urlretrieve(\n",
    "            'https://www.cs.toronto.edu/~kriz/cifar-10-python.tar.gz',\n",
    "            'cifar-10-python.tar.gz',\n",
    "            pbar.hook)\n",
    "\n",
    "if not isdir(cifar10_dataset_folder_path):\n",
    "    with tarfile.open('cifar-10-python.tar.gz') as tar:\n",
    "        tar.extractall()\n",
    "        tar.close()\n",
    "\n",
    "\n",
    "tests.test_folder_path(cifar10_dataset_folder_path)"
   ]
  },
  {
   "cell_type": "markdown",
   "metadata": {},
   "source": [
    "## Explore the Data\n",
    "The dataset is broken into batches to prevent your machine from running out of memory.  The CIFAR-10 dataset consists of 5 batches, named `data_batch_1`, `data_batch_2`, etc.. Each batch contains the labels and images that are one of the following:\n",
    "* airplane\n",
    "* automobile\n",
    "* bird\n",
    "* cat\n",
    "* deer\n",
    "* dog\n",
    "* frog\n",
    "* horse\n",
    "* ship\n",
    "* truck\n",
    "\n",
    "Understanding a dataset is part of making predictions on the data.  Play around with the code cell below by changing the `batch_id` and `sample_id`. The `batch_id` is the id for a batch (1-5). The `sample_id` is the id for a image and label pair in the batch.\n",
    "\n",
    "Ask yourself \"What are all possible labels?\", \"What is the range of values for the image data?\", \"Are the labels in order or random?\".  Answers to questions like these will help you preprocess the data and end up with better predictions."
   ]
  },
  {
   "cell_type": "code",
   "execution_count": 5,
   "metadata": {
    "collapsed": false
   },
   "outputs": [
    {
     "name": "stdout",
     "output_type": "stream",
     "text": [
      "\n",
      "Stats of batch 5:\n",
      "Samples: 10000\n",
      "Label Counts: {0: 1014, 1: 1014, 2: 952, 3: 1016, 4: 997, 5: 1025, 6: 980, 7: 977, 8: 1003, 9: 1022}\n",
      "First 20 Labels: [1, 8, 5, 1, 5, 7, 4, 3, 8, 2, 7, 2, 0, 1, 5, 9, 6, 2, 0, 8]\n",
      "\n",
      "Example of Image 100:\n",
      "Image - Min Value: 5 Max Value: 255\n",
      "Image - Shape: (32, 32, 3)\n",
      "Label - Label Id: 9 Name: truck\n"
     ]
    },
    {
     "data": {
      "image/png": "[encoded data removed]",
      "text/plain": [
       "<matplotlib.figure.Figure at 0x7f27e1f73400>"
      ]
     },
     "metadata": {
      "image/png": {
       "height": 250,
       "width": 253
      }
     },
     "output_type": "display_data"
    }
   ],
   "source": [
    "%matplotlib inline\n",
    "%config InlineBackend.figure_format = 'retina'\n",
    "\n",
    "import helper\n",
    "import numpy as np\n",
    "\n",
    "# Explore the dataset\n",
    "batch_id = 5\n",
    "sample_id = 100\n",
    "helper.display_stats(cifar10_dataset_folder_path, batch_id, sample_id)"
   ]
  },
  {
   "cell_type": "markdown",
   "metadata": {},
   "source": [
    "## Implement Preprocess Functions\n",
    "### Normalize\n",
    "In the cell below, implement the `normalize` function to take in image data, `x`, and return it as a normalized Numpy array. The values should be in the range of 0 to 1, inclusive.  The return object should be the same shape as `x`."
   ]
  },
  {
   "cell_type": "code",
   "execution_count": 7,
   "metadata": {
    "collapsed": false
   },
   "outputs": [
    {
     "name": "stdout",
     "output_type": "stream",
     "text": [
      "Tests Passed\n"
     ]
    }
   ],
   "source": [
    "def normalize(x):\n",
    "    \"\"\"\n",
    "    Normalize a list of sample image data in the range of 0 to 1\n",
    "    : x: List of image data.  The image shape is (32, 32, 3)\n",
    "    : return: Numpy array of normalize data\n",
    "    \"\"\"\n",
    "    return ( x / 255.)\n",
    "\n",
    "\n",
    "\"\"\"\n",
    "DON'T MODIFY ANYTHING IN THIS CELL THAT IS BELOW THIS LINE\n",
    "\"\"\"\n",
    "tests.test_normalize(normalize)"
   ]
  },
  {
   "cell_type": "markdown",
   "metadata": {},
   "source": [
    "### One-hot encode\n",
    "Just like the previous code cell, you'll be implementing a function for preprocessing.  This time, you'll implement the `one_hot_encode` function. The input, `x`, are a list of labels.  Implement the function to return the list of labels as One-Hot encoded Numpy array.  The possible values for labels are 0 to 9. The one-hot encoding function should return the same encoding for each value between each call to `one_hot_encode`.  Make sure to save the map of encodings outside the function.\n",
    "\n",
    "Hint: Don't reinvent the wheel."
   ]
  },
  {
   "cell_type": "code",
   "execution_count": 11,
   "metadata": {
    "collapsed": false
   },
   "outputs": [
    {
     "name": "stdout",
     "output_type": "stream",
     "text": [
      "Tests Passed\n"
     ]
    }
   ],
   "source": [
    "from sklearn.preprocessing import LabelBinarizer\n",
    "lb = LabelBinarizer()\n",
    "lb.fit(range(10))\n",
    "\n",
    "def one_hot_encode(x):\n",
    "    \"\"\"\n",
    "    One hot encode a list of sample labels. Return a one-hot encoded vector for each label.\n",
    "    : x: List of sample Labels\n",
    "    : return: Numpy array of one-hot encoded labels\n",
    "    \"\"\"\n",
    "    return lb.transform(x)\n",
    "\n",
    "\n",
    "\"\"\"\n",
    "DON'T MODIFY ANYTHING IN THIS CELL THAT IS BELOW THIS LINE\n",
    "\"\"\"\n",
    "tests.test_one_hot_encode(one_hot_encode)"
   ]
  },
  {
   "cell_type": "markdown",
   "metadata": {},
   "source": [
    "### Randomize Data\n",
    "As you saw from exploring the data above, the order of the samples are randomized.  It doesn't hurt to randomize it again, but you don't need to for this dataset."
   ]
  },
  {
   "cell_type": "markdown",
   "metadata": {},
   "source": [
    "## Preprocess all the data and save it\n",
    "Running the code cell below will preprocess all the CIFAR-10 data and save it to file. The code below also uses 10% of the training data for validation."
   ]
  },
  {
   "cell_type": "code",
   "execution_count": 12,
   "metadata": {
    "collapsed": false
   },
   "outputs": [],
   "source": [
    "\"\"\"\n",
    "DON'T MODIFY ANYTHING IN THIS CELL\n",
    "\"\"\"\n",
    "# Preprocess Training, Validation, and Testing Data\n",
    "helper.preprocess_and_save_data(cifar10_dataset_folder_path, normalize, one_hot_encode)"
   ]
  },
  {
   "cell_type": "markdown",
   "metadata": {},
   "source": [
    "# Check Point\n",
    "This is your first checkpoint.  If you ever decide to come back to this notebook or have to restart the notebook, you can start from here.  The preprocessed data has been saved to disk."
   ]
  },
  {
   "cell_type": "code",
   "execution_count": 13,
   "metadata": {
    "collapsed": true
   },
   "outputs": [],
   "source": [
    "\"\"\"\n",
    "DON'T MODIFY ANYTHING IN THIS CELL\n",
    "\"\"\"\n",
    "import pickle\n",
    "import problem_unittests as tests\n",
    "import helper\n",
    "\n",
    "# Load the Preprocessed Validation data\n",
    "valid_features, valid_labels = pickle.load(open('preprocess_validation.p', mode='rb'))"
   ]
  },
  {
   "cell_type": "markdown",
   "metadata": {},
   "source": [
    "## Build the network\n",
    "For the neural network, you'll build each layer into a function.  Most of the code you've seen has been outside of functions. To test your code more thoroughly, we require that you put each layer in a function.  This allows us to give you better feedback and test for simple mistakes using our unittests before you submit your project.\n",
    "\n",
    "If you're finding it hard to dedicate enough time for this course a week, we've provided a small shortcut to this part of the project. In the next couple of problems, you'll have the option to use [TensorFlow Layers](https://www.tensorflow.org/api_docs/python/tf/layers) or [TensorFlow Layers (contrib)](https://www.tensorflow.org/api_guides/python/contrib.layers) to build each layer, except \"Convolutional & Max Pooling\" layer.  TF Layers is similar to Keras's and TFLearn's abstraction to layers, so it's easy to pickup.\n",
    "\n",
    "If you would like to get the most of this course, try to solve all the problems without TF Layers.  Let's begin!\n",
    "### Input\n",
    "The neural network needs to read the image data, one-hot encoded labels, and dropout keep probability. Implement the following functions\n",
    "* Implement `neural_net_image_input`\n",
    " * Return a [TF Placeholder](https://www.tensorflow.org/api_docs/python/tf/placeholder)\n",
    " * Set the shape using `image_shape` with batch size set to `None`.\n",
    " * Name the TensorFlow placeholder \"x\" using the TensorFlow `name` parameter in the [TF Placeholder](https://www.tensorflow.org/api_docs/python/tf/placeholder).\n",
    "* Implement `neural_net_label_input`\n",
    " * Return a [TF Placeholder](https://www.tensorflow.org/api_docs/python/tf/placeholder)\n",
    " * Set the shape using `n_classes` with batch size set to `None`.\n",
    " * Name the TensorFlow placeholder \"y\" using the TensorFlow `name` parameter in the [TF Placeholder](https://www.tensorflow.org/api_docs/python/tf/placeholder).\n",
    "* Implement `neural_net_keep_prob_input`\n",
    " * Return a [TF Placeholder](https://www.tensorflow.org/api_docs/python/tf/placeholder) for dropout keep probability.\n",
    " * Name the TensorFlow placeholder \"keep_prob\" using the TensorFlow `name` parameter in the [TF Placeholder](https://www.tensorflow.org/api_docs/python/tf/placeholder).\n",
    "\n",
    "These names will be used at the end of the project to load your saved model.\n",
    "\n",
    "Note: `None` for shapes in TensorFlow allow for a dynamic size."
   ]
  },
  {
   "cell_type": "code",
   "execution_count": 20,
   "metadata": {
    "collapsed": false
   },
   "outputs": [
    {
     "name": "stdout",
     "output_type": "stream",
     "text": [
      "Image Input Tests Passed.\n",
      "Label Input Tests Passed.\n",
      "Keep Prob Tests Passed.\n"
     ]
    }
   ],
   "source": [
    "import tensorflow as tf\n",
    "\n",
    "def neural_net_image_input(image_shape):\n",
    "    \"\"\"\n",
    "    Return a Tensor for a bach of image input\n",
    "    : image_shape: Shape of the images\n",
    "    : return: Tensor for image input.\n",
    "    \"\"\"\n",
    "    return tf.placeholder(tf.float32, [None] + list(image_shape), name=\"x\")\n",
    "\n",
    "\n",
    "def neural_net_label_input(n_classes):\n",
    "    \"\"\"\n",
    "    Return a Tensor for a batch of label input\n",
    "    : n_classes: Number of classes\n",
    "    : return: Tensor for label input.\n",
    "    \"\"\"\n",
    "\n",
    "    return tf.placeholder(tf.float32, [None, n_classes], name = \"y\")\n",
    "\n",
    "\n",
    "def neural_net_keep_prob_input():\n",
    "    \"\"\"\n",
    "    Return a Tensor for keep probability\n",
    "    : return: Tensor for keep probability.\n",
    "    \"\"\"\n",
    "    return tf.placeholder(tf.float32, name = \"keep_prob\")\n",
    "\n",
    "\n",
    "\"\"\"\n",
    "DON'T MODIFY ANYTHING IN THIS CELL THAT IS BELOW THIS LINE\n",
    "\"\"\"\n",
    "tf.reset_default_graph()\n",
    "tests.test_nn_image_inputs(neural_net_image_input)\n",
    "tests.test_nn_label_inputs(neural_net_label_input)\n",
    "tests.test_nn_keep_prob_inputs(neural_net_keep_prob_input)"
   ]
  },
  {
   "cell_type": "markdown",
   "metadata": {},
   "source": [
    "### Convolution and Max Pooling Layer\n",
    "Convolution layers have a lot of success with images. For this code cell, you should implement the function `conv2d_maxpool` to apply convolution then max pooling:\n",
    "* Create the weight and bias using `conv_ksize`, `conv_num_outputs` and the shape of `x_tensor`.\n",
    "* Apply a convolution to `x_tensor` using weight and `conv_strides`.\n",
    " * We recommend you use same padding, but you're welcome to use any padding.\n",
    "* Add bias\n",
    "* Add a nonlinear activation to the convolution.\n",
    "* Apply Max Pooling using `pool_ksize` and `pool_strides`.\n",
    " * We recommend you use same padding, but you're welcome to use any padding.\n",
    "\n",
    "Note: You **can't** use [TensorFlow Layers](https://www.tensorflow.org/api_docs/python/tf/layers) or [TensorFlow Layers (contrib)](https://www.tensorflow.org/api_guides/python/contrib.layers) for this layer.  You're free to use any TensorFlow package for all the other layers."
   ]
  },
  {
   "cell_type": "code",
   "execution_count": 321,
   "metadata": {
    "collapsed": false
   },
   "outputs": [
    {
     "name": "stdout",
     "output_type": "stream",
     "text": [
      "Tests Passed\n"
     ]
    }
   ],
   "source": [
    "def conv2d_maxpool(x_tensor, conv_num_outputs, conv_ksize, conv_strides, pool_ksize, pool_strides):\n",
    "    \"\"\"\n",
    "    Apply convolution then max pooling to x_tensor\n",
    "    :param x_tensor: TensorFlow Tensor\n",
    "    :param conv_num_outputs: Number of outputs for the convolutional layer\n",
    "    :param conv_strides: Stride 2-D Tuple for convolution\n",
    "    :param pool_ksize: kernal size 2-D Tuple for pool\n",
    "    :param pool_strides: Stride 2-D Tuple for pool\n",
    "    : return: A tensor that represents convolution and max pooling of x_tensor\n",
    "    \"\"\"\n",
    "    # TODO: Implement Function\n",
    "    #Filter Shape [filter_height * filter_width * in_channels, output_channels]\n",
    "    in_channels = x_tensor.get_shape().as_list()[-1] #get_shape() gets tensor shape at run time \n",
    "    conv_filter_size = list(conv_ksize) + [in_channels, conv_num_outputs]\n",
    "    #print(conv_filter_size)\n",
    "    weight_c = tf.Variable(tf.truncated_normal(conv_filter_size))\n",
    "    bias_c = tf.Variable(tf.truncated_normal([conv_num_outputs]))\n",
    "    strides_c = [1] + list(conv_strides) +  [1]\n",
    "    padding_c = \"SAME\"\n",
    "    xconv = tf.nn.bias_add( tf.nn.conv2d(x_tensor, weight_c, strides_c, padding_c), bias_c)\n",
    "    \n",
    "    pool_k = [1] + list(pool_ksize) + [1]\n",
    "    pool_s = [1] + list(pool_strides) + [1]\n",
    "    padding_p = \"SAME\"\n",
    "    pool_out = tf.nn.max_pool(xconv, pool_k, pool_s, padding_p)\n",
    "    return pool_out \n",
    "\n",
    "\n",
    "\"\"\"\n",
    "DON'T MODIFY ANYTHING IN THIS CELL THAT IS BELOW THIS LINE\n",
    "\"\"\"\n",
    "tests.test_con_pool(conv2d_maxpool)"
   ]
  },
  {
   "cell_type": "markdown",
   "metadata": {},
   "source": [
    "### Flatten Layer\n",
    "Implement the `flatten` function to change the dimension of `x_tensor` from a 4-D tensor to a 2-D tensor.  The output should be the shape (*Batch Size*, *Flattened Image Size*). You can use [TensorFlow Layers](https://www.tensorflow.org/api_docs/python/tf/layers) or [TensorFlow Layers (contrib)](https://www.tensorflow.org/api_guides/python/contrib.layers) for this layer."
   ]
  },
  {
   "cell_type": "code",
   "execution_count": 322,
   "metadata": {
    "collapsed": false
   },
   "outputs": [
    {
     "name": "stdout",
     "output_type": "stream",
     "text": [
      "Tests Passed\n"
     ]
    }
   ],
   "source": [
    "from operator import mul\n",
    "from functools import reduce\n",
    "def flatten(x_tensor):\n",
    "    \"\"\"\n",
    "    Flatten x_tensor to (Batch Size, Flattened Image Size)\n",
    "    : x_tensor: A tensor of size (Batch Size, ...), where ... are the image dimensions.\n",
    "    : return: A tensor of size (Batch Size, Flattened Image Size).\n",
    "    \"\"\"\n",
    "    # TODO: Implement Function\n",
    "    input_shape = x_tensor.get_shape().as_list()\n",
    "    flattened_dims = np.prod(input_shape[1:])\n",
    "    reshp = tf.reshape(x_tensor, [-1, flattened_dims])\n",
    "    return reshp\n",
    "\n",
    "\n",
    "\"\"\"\n",
    "DON'T MODIFY ANYTHING IN THIS CELL THAT IS BELOW THIS LINE\n",
    "\"\"\"\n",
    "tests.test_flatten(flatten)"
   ]
  },
  {
   "cell_type": "markdown",
   "metadata": {},
   "source": [
    "### Fully-Connected Layer\n",
    "Implement the `fully_conn` function to apply a fully connected layer to `x_tensor` with the shape (*Batch Size*, *num_outputs*). You can use [TensorFlow Layers](https://www.tensorflow.org/api_docs/python/tf/layers) or [TensorFlow Layers (contrib)](https://www.tensorflow.org/api_guides/python/contrib.layers) for this layer."
   ]
  },
  {
   "cell_type": "code",
   "execution_count": 323,
   "metadata": {
    "collapsed": false
   },
   "outputs": [
    {
     "name": "stdout",
     "output_type": "stream",
     "text": [
      "Tests Passed\n"
     ]
    }
   ],
   "source": [
    "def fully_conn(x_tensor, num_outputs):\n",
    "    \"\"\"\n",
    "    Apply a fully connected layer to x_tensor using weight and bias\n",
    "    : x_tensor: A 2-D tensor where the first dimension is batch size.\n",
    "    : num_outputs: The number of output that the new tensor should be.\n",
    "    : return: A 2-D tensor where the second dimension is num_outputs.\n",
    "    \"\"\"\n",
    "    input_shape = x_tensor.get_shape().as_list()\n",
    "    W_fc = tf.Variable(tf.truncated_normal([ input_shape[-1], num_outputs]))\n",
    "    b_fc = tf.Variable(tf.truncated_normal([num_outputs]))\n",
    "    fc = tf.add( tf.matmul(x_tensor, W_fc), b_fc)\n",
    "    return fc\n",
    "\n",
    "\n",
    "\"\"\"\n",
    "DON'T MODIFY ANYTHING IN THIS CELL THAT IS BELOW THIS LINE\n",
    "\"\"\"\n",
    "tests.test_fully_conn(fully_conn)"
   ]
  },
  {
   "cell_type": "markdown",
   "metadata": {},
   "source": [
    "### Output Layer\n",
    "Implement the `output` function to apply a fully connected layer to `x_tensor` with the shape (*Batch Size*, *num_outputs*). You can use [TensorFlow Layers](https://www.tensorflow.org/api_docs/python/tf/layers) or [TensorFlow Layers (contrib)](https://www.tensorflow.org/api_guides/python/contrib.layers) for this layer.\n",
    "\n",
    "Note: Activation, softmax, or cross entropy shouldn't be applied to this."
   ]
  },
  {
   "cell_type": "code",
   "execution_count": 324,
   "metadata": {
    "collapsed": false
   },
   "outputs": [
    {
     "name": "stdout",
     "output_type": "stream",
     "text": [
      "Tests Passed\n"
     ]
    }
   ],
   "source": [
    "def output(x_tensor, num_outputs):\n",
    "    \"\"\"\n",
    "    Apply a output layer to x_tensor using weight and bias\n",
    "    : x_tensor: A 2-D tensor where the first dimension is batch size.\n",
    "    : num_outputs: The number of output that the new tensor should be.\n",
    "    : return: A 2-D tensor where the second dimension is num_outputs.\n",
    "    \"\"\"\n",
    "    # TODO: Implement Function\n",
    "    return fully_conn(x_tensor, num_outputs)\n",
    "\n",
    "\n",
    "\"\"\"\n",
    "DON'T MODIFY ANYTHING IN THIS CELL THAT IS BELOW THIS LINE\n",
    "\"\"\"\n",
    "tests.test_output(output)"
   ]
  },
  {
   "cell_type": "markdown",
   "metadata": {},
   "source": [
    "### Create Convolutional Model\n",
    "Implement the function `conv_net` to create a convolutional neural network model. The function takes in a batch of images, `x`, and outputs logits.  Use the layers you created above to create this model:\n",
    "\n",
    "* Apply 1, 2, or 3 Convolution and Max Pool layers\n",
    "* Apply a Flatten Layer\n",
    "* Apply 1, 2, or 3 Fully Connected Layers\n",
    "* Apply an Output Layer\n",
    "* Return the output\n",
    "* Apply [TensorFlow's Dropout](https://www.tensorflow.org/api_docs/python/tf/nn/dropout) to one or more layers in the model using `keep_prob`. "
   ]
  },
  {
   "cell_type": "code",
   "execution_count": 342,
   "metadata": {
    "collapsed": false
   },
   "outputs": [
    {
     "name": "stdout",
     "output_type": "stream",
     "text": [
      "Neural Network Built!\n"
     ]
    }
   ],
   "source": [
    "\"\"\"\n",
    "Convenience function to represent conv operations\n",
    "\"\"\"\n",
    "def conv_nl_block(x_tensor, keep_prob):\n",
    "    conv1 = tf.nn.relu(conv2d_maxpool(x_tensor, 64, (5,5), (1,1), (3,3), (2,2)))\n",
    "    conv2 = tf.nn.relu(conv2d_maxpool(conv1, 128, (3,3), (1,1), (3,3), (2,2)))\n",
    "    #drop1 = tf.nn.dropout(conv2, keep_prob)\n",
    "    #conv3 = tf.nn.relu(conv2d_maxpool(conv2, 128, (3,3), (1,1), (2,2), (2,2)))\n",
    "    \n",
    "    return conv2\n",
    "    \n",
    "def conv_net(x, keep_prob):\n",
    "    \"\"\"\n",
    "    Create a convolutional neural network model\n",
    "    : x: Placeholder tensor that holds image data.\n",
    "    : keep_prob: Placeholder tensor that hold dropout keep probability.\n",
    "    : return: Tensor that represents logits\n",
    "    \"\"\"\n",
    "    # TODO: Apply 1, 2, or 3 Convolution and Max Pool layers\n",
    "    #    Play around with different number of outputs, kernel size and stride\n",
    "    # Function Definition from Above:\n",
    "    #    conv2d_maxpool(x_tensor, conv_num_outputs, conv_ksize, conv_strides, pool_ksize, pool_strides)\n",
    "    conv_out = conv_nl_block(x, keep_prob)\n",
    "    \n",
    "    # TODO: Apply a Flatten Layer\n",
    "    # Function Definition from Above:\n",
    "    #   flatten(x_tensor)\n",
    "    flat_out = flatten(conv_out)\n",
    "\n",
    "    # TODO: Apply 1, 2, or 3 Fully Connected Layers\n",
    "    #    Play around with different number of outputs\n",
    "    # Function Definition from Above:\n",
    "    #   fully_conn(x_tensor, num_outputs)\n",
    "    fc1 = tf.nn.relu(fully_conn(flat_out, 500))\n",
    "    #drop1 = tf.nn.dropout(fc1, keep_prob)\n",
    "    fc2 = tf.nn.relu(fully_conn(fc1, 300))\n",
    "    #drop = tf.nn.dropout(fc2, keep_prob)\n",
    "    # TODO: Apply an Output Layer\n",
    "    #    Set this to the number of classes\n",
    "    # Function Definition from Above:\n",
    "    #   output(x_tensor, num_outputs)\n",
    "    out = output(fc2, 10)\n",
    "    \n",
    "    # TODO: return output\n",
    "    return out\n",
    "\n",
    "\n",
    "\"\"\"\n",
    "DON'T MODIFY ANYTHING IN THIS CELL THAT IS BELOW THIS LINE\n",
    "\"\"\"\n",
    "\n",
    "##############################\n",
    "## Build the Neural Network ##\n",
    "##############################\n",
    "\n",
    "# Remove previous weights, bias, inputs, etc..\n",
    "tf.reset_default_graph()\n",
    "\n",
    "# Inputs\n",
    "x = neural_net_image_input((32, 32, 3))\n",
    "y = neural_net_label_input(10)\n",
    "keep_prob = neural_net_keep_prob_input()\n",
    "\n",
    "# Model\n",
    "logits = conv_net(x, keep_prob)\n",
    "\n",
    "# Name logits Tensor, so that is can be loaded from disk after training\n",
    "logits = tf.identity(logits, name='logits')\n",
    "\n",
    "# Loss and Optimizer\n",
    "cost = tf.reduce_mean(tf.nn.softmax_cross_entropy_with_logits(logits=logits, labels=y))\n",
    "optimizer = tf.train.AdamOptimizer().minimize(cost)\n",
    "\n",
    "# Accuracy\n",
    "correct_pred = tf.equal(tf.argmax(logits, 1), tf.argmax(y, 1))\n",
    "accuracy = tf.reduce_mean(tf.cast(correct_pred, tf.float32), name='accuracy')\n",
    "\n",
    "tests.test_conv_net(conv_net)"
   ]
  },
  {
   "cell_type": "markdown",
   "metadata": {},
   "source": [
    "## Train the Neural Network\n",
    "### Single Optimization\n",
    "Implement the function `train_neural_network` to do a single optimization.  The optimization should use `optimizer` to optimize in `session` with a `feed_dict` of the following:\n",
    "* `x` for image input\n",
    "* `y` for labels\n",
    "* `keep_prob` for keep probability for dropout\n",
    "\n",
    "This function will be called for each batch, so `tf.global_variables_initializer()` has already been called.\n",
    "\n",
    "Note: Nothing needs to be returned. This function is only optimizing the neural network."
   ]
  },
  {
   "cell_type": "code",
   "execution_count": 343,
   "metadata": {
    "collapsed": false
   },
   "outputs": [
    {
     "name": "stdout",
     "output_type": "stream",
     "text": [
      "Tests Passed\n"
     ]
    }
   ],
   "source": [
    "def train_neural_network(session, optimizer, keep_probability, feature_batch, label_batch):\n",
    "    \"\"\"\n",
    "    Optimize the session on a batch of images and labels\n",
    "    : session: Current TensorFlow session\n",
    "    : optimizer: TensorFlow optimizer function\n",
    "    : keep_probability: keep probability\n",
    "    : feature_batch: Batch of Numpy image data\n",
    "    : label_batch: Batch of Numpy label data\n",
    "    \"\"\"\n",
    "    session.run(optimizer, feed_dict = {x : feature_batch, y: label_batch, keep_prob: keep_probability})\n",
    "\n",
    "\n",
    "\"\"\"\n",
    "DON'T MODIFY ANYTHING IN THIS CELL THAT IS BELOW THIS LINE\n",
    "\"\"\"\n",
    "tests.test_train_nn(train_neural_network)"
   ]
  },
  {
   "cell_type": "markdown",
   "metadata": {},
   "source": [
    "### Show Stats\n",
    "Implement the function `print_stats` to print loss and validation accuracy.  Use the global variables `valid_features` and `valid_labels` to calculate validation accuracy.  Use a keep probability of `1.0` to calculate the loss and validation accuracy."
   ]
  },
  {
   "cell_type": "code",
   "execution_count": 344,
   "metadata": {
    "collapsed": false
   },
   "outputs": [],
   "source": [
    "def print_stats(session, feature_batch, label_batch, cost, accuracy):\n",
    "    \"\"\"\n",
    "    Print information about loss and validation accuracy\n",
    "    : session: Current TensorFlow session\n",
    "    : feature_batch: Batch of Numpy image data\n",
    "    : label_batch: Batch of Numpy label data\n",
    "    : cost: TensorFlow cost function\n",
    "    : accuracy: TensorFlow accuracy function\n",
    "    \"\"\"\n",
    "    [acc, loss] = session.run([accuracy, cost], feed_dict = {x : feature_batch, y: label_batch, keep_prob: 1})\n",
    "    print(\"Batch Accuracy: {:>6.4f}, Loss: {:>6.2f}\".format(acc, loss))"
   ]
  },
  {
   "cell_type": "markdown",
   "metadata": {},
   "source": [
    "### Hyperparameters\n",
    "Tune the following parameters:\n",
    "* Set `epochs` to the number of iterations until the network stops learning or start overfitting\n",
    "* Set `batch_size` to the highest number that your machine has memory for.  Most people set them to common sizes of memory:\n",
    " * 64\n",
    " * 128\n",
    " * 256\n",
    " * ...\n",
    "* Set `keep_probability` to the probability of keeping a node using dropout"
   ]
  },
  {
   "cell_type": "code",
   "execution_count": 349,
   "metadata": {
    "collapsed": true
   },
   "outputs": [],
   "source": [
    "# TODO: Tune Parameters\n",
    "epochs = 30\n",
    "batch_size = 256\n",
    "keep_probability = 0.8"
   ]
  },
  {
   "cell_type": "markdown",
   "metadata": {},
   "source": [
    "### Train on a Single CIFAR-10 Batch\n",
    "Instead of training the neural network on all the CIFAR-10 batches of data, let's use a single batch. This should save time while you iterate on the model to get a better accuracy.  Once the final validation accuracy is 50% or greater, run the model on all the data in the next section."
   ]
  },
  {
   "cell_type": "code",
   "execution_count": 346,
   "metadata": {
    "collapsed": false
   },
   "outputs": [
    {
     "name": "stdout",
     "output_type": "stream",
     "text": [
      "Checking the Training on a Single Batch...\n",
      "Epoch  1, CIFAR-10 Batch 1:  Batch Accuracy: 0.1250, Loss: 109354.46\n",
      "Epoch  2, CIFAR-10 Batch 1:  Batch Accuracy: 0.3750, Loss: 64414.22\n",
      "Epoch  3, CIFAR-10 Batch 1:  Batch Accuracy: 0.3500, Loss: 42811.69\n",
      "Epoch  4, CIFAR-10 Batch 1:  Batch Accuracy: 0.5250, Loss: 28861.34\n",
      "Epoch  5, CIFAR-10 Batch 1:  Batch Accuracy: 0.5250, Loss: 24028.21\n",
      "Epoch  6, CIFAR-10 Batch 1:  Batch Accuracy: 0.5250, Loss: 21348.75\n",
      "Epoch  7, CIFAR-10 Batch 1:  Batch Accuracy: 0.5750, Loss: 18329.40\n",
      "Epoch  8, CIFAR-10 Batch 1:  Batch Accuracy: 0.6750, Loss: 14183.09\n",
      "Epoch  9, CIFAR-10 Batch 1:  Batch Accuracy: 0.5750, Loss: 13168.30\n",
      "Epoch 10, CIFAR-10 Batch 1:  Batch Accuracy: 0.6750, Loss: 10237.92\n",
      "Epoch 11, CIFAR-10 Batch 1:  Batch Accuracy: 0.6250, Loss: 8935.90\n",
      "Epoch 12, CIFAR-10 Batch 1:  Batch Accuracy: 0.6750, Loss: 9666.50\n",
      "Epoch 13, CIFAR-10 Batch 1:  Batch Accuracy: 0.7750, Loss: 9200.35\n",
      "Epoch 14, CIFAR-10 Batch 1:  Batch Accuracy: 0.7500, Loss: 9674.85\n",
      "Epoch 15, CIFAR-10 Batch 1:  Batch Accuracy: 0.7750, Loss: 8339.77\n",
      "Epoch 16, CIFAR-10 Batch 1:  Batch Accuracy: 0.8500, Loss: 6593.46\n",
      "Epoch 17, CIFAR-10 Batch 1:  Batch Accuracy: 0.7500, Loss: 6958.24\n",
      "Epoch 18, CIFAR-10 Batch 1:  Batch Accuracy: 0.8750, Loss: 5153.71\n",
      "Epoch 19, CIFAR-10 Batch 1:  Batch Accuracy: 0.8250, Loss: 4285.14\n",
      "Epoch 20, CIFAR-10 Batch 1:  Batch Accuracy: 0.9250, Loss: 3467.50\n"
     ]
    }
   ],
   "source": [
    "\"\"\"\n",
    "DON'T MODIFY ANYTHING IN THIS CELL\n",
    "\"\"\"\n",
    "print('Checking the Training on a Single Batch...')\n",
    "with tf.Session() as sess:\n",
    "    # Initializing the variables\n",
    "    sess.run(tf.global_variables_initializer())\n",
    "    \n",
    "    # Training cycle\n",
    "    for epoch in range(epochs):\n",
    "        batch_i = 1\n",
    "        for batch_features, batch_labels in helper.load_preprocess_training_batch(batch_i, batch_size):\n",
    "            train_neural_network(sess, optimizer, keep_probability, batch_features, batch_labels)\n",
    "        print('Epoch {:>2}, CIFAR-10 Batch {}:  '.format(epoch + 1, batch_i), end='')\n",
    "        print_stats(sess, batch_features, batch_labels, cost, accuracy)"
   ]
  },
  {
   "cell_type": "markdown",
   "metadata": {},
   "source": [
    "### Fully Train the Model\n",
    "Now that you got a good accuracy with a single CIFAR-10 batch, try it with all five batches."
   ]
  },
  {
   "cell_type": "code",
   "execution_count": 350,
   "metadata": {
    "collapsed": false
   },
   "outputs": [
    {
     "name": "stdout",
     "output_type": "stream",
     "text": [
      "Training...\n",
      "Epoch  1, CIFAR-10 Batch 1:  Batch Accuracy: 0.2000, Loss: 167667.56\n",
      "Epoch  1, CIFAR-10 Batch 2:  Batch Accuracy: 0.3000, Loss: 67418.88\n",
      "Epoch  1, CIFAR-10 Batch 3:  Batch Accuracy: 0.3750, Loss: 58188.09\n",
      "Epoch  1, CIFAR-10 Batch 4:  Batch Accuracy: 0.3250, Loss: 51954.66\n",
      "Epoch  1, CIFAR-10 Batch 5:  Batch Accuracy: 0.2250, Loss: 60818.74\n",
      "Epoch  2, CIFAR-10 Batch 1:  Batch Accuracy: 0.4000, Loss: 51143.50\n",
      "Epoch  2, CIFAR-10 Batch 2:  Batch Accuracy: 0.3250, Loss: 33160.43\n",
      "Epoch  2, CIFAR-10 Batch 3:  Batch Accuracy: 0.4500, Loss: 33643.59\n",
      "Epoch  2, CIFAR-10 Batch 4:  Batch Accuracy: 0.4250, Loss: 30552.09\n",
      "Epoch  2, CIFAR-10 Batch 5:  Batch Accuracy: 0.3750, Loss: 32805.78\n",
      "Epoch  3, CIFAR-10 Batch 1:  Batch Accuracy: 0.4750, Loss: 32471.95\n",
      "Epoch  3, CIFAR-10 Batch 2:  Batch Accuracy: 0.4500, Loss: 19370.75\n",
      "Epoch  3, CIFAR-10 Batch 3:  Batch Accuracy: 0.4500, Loss: 19393.17\n",
      "Epoch  3, CIFAR-10 Batch 4:  Batch Accuracy: 0.5000, Loss: 14774.30\n",
      "Epoch  3, CIFAR-10 Batch 5:  Batch Accuracy: 0.5750, Loss: 23537.21\n",
      "Epoch  4, CIFAR-10 Batch 1:  Batch Accuracy: 0.5750, Loss: 22647.75\n",
      "Epoch  4, CIFAR-10 Batch 2:  Batch Accuracy: 0.5000, Loss: 13579.46\n",
      "Epoch  4, CIFAR-10 Batch 3:  Batch Accuracy: 0.5250, Loss: 11958.84\n",
      "Epoch  4, CIFAR-10 Batch 4:  Batch Accuracy: 0.5750, Loss: 9327.09\n",
      "Epoch  4, CIFAR-10 Batch 5:  Batch Accuracy: 0.6250, Loss: 19911.46\n",
      "Epoch  5, CIFAR-10 Batch 1:  Batch Accuracy: 0.5500, Loss: 15991.49\n",
      "Epoch  5, CIFAR-10 Batch 2:  Batch Accuracy: 0.6500, Loss: 9825.60\n",
      "Epoch  5, CIFAR-10 Batch 3:  Batch Accuracy: 0.6250, Loss: 6664.18\n",
      "Epoch  5, CIFAR-10 Batch 4:  Batch Accuracy: 0.6000, Loss: 7531.97\n",
      "Epoch  5, CIFAR-10 Batch 5:  Batch Accuracy: 0.6000, Loss: 14098.66\n",
      "Epoch  6, CIFAR-10 Batch 1:  Batch Accuracy: 0.5750, Loss: 11545.25\n",
      "Epoch  6, CIFAR-10 Batch 2:  Batch Accuracy: 0.6500, Loss: 5955.21\n",
      "Epoch  6, CIFAR-10 Batch 3:  Batch Accuracy: 0.7250, Loss: 4642.92\n",
      "Epoch  6, CIFAR-10 Batch 4:  Batch Accuracy: 0.6250, Loss: 6649.93\n",
      "Epoch  6, CIFAR-10 Batch 5:  Batch Accuracy: 0.5750, Loss: 9276.51\n",
      "Epoch  7, CIFAR-10 Batch 1:  Batch Accuracy: 0.5500, Loss: 10255.59\n",
      "Epoch  7, CIFAR-10 Batch 2:  Batch Accuracy: 0.8250, Loss: 3517.40\n",
      "Epoch  7, CIFAR-10 Batch 3:  Batch Accuracy: 0.7500, Loss: 3595.38\n",
      "Epoch  7, CIFAR-10 Batch 4:  Batch Accuracy: 0.6750, Loss: 5102.98\n",
      "Epoch  7, CIFAR-10 Batch 5:  Batch Accuracy: 0.6750, Loss: 5833.66\n",
      "Epoch  8, CIFAR-10 Batch 1:  Batch Accuracy: 0.6000, Loss: 7431.93\n",
      "Epoch  8, CIFAR-10 Batch 2:  Batch Accuracy: 0.8250, Loss: 1697.08\n",
      "Epoch  8, CIFAR-10 Batch 3:  Batch Accuracy: 0.7750, Loss: 3027.72\n",
      "Epoch  8, CIFAR-10 Batch 4:  Batch Accuracy: 0.7500, Loss: 3040.56\n",
      "Epoch  8, CIFAR-10 Batch 5:  Batch Accuracy: 0.7000, Loss: 3793.71\n",
      "Epoch  9, CIFAR-10 Batch 1:  Batch Accuracy: 0.7000, Loss: 6149.01\n",
      "Epoch  9, CIFAR-10 Batch 2:  Batch Accuracy: 0.9000, Loss: 1257.74\n",
      "Epoch  9, CIFAR-10 Batch 3:  Batch Accuracy: 0.7750, Loss: 2402.51\n",
      "Epoch  9, CIFAR-10 Batch 4:  Batch Accuracy: 0.8500, Loss: 1736.20\n",
      "Epoch  9, CIFAR-10 Batch 5:  Batch Accuracy: 0.7500, Loss: 2969.40\n",
      "Epoch 10, CIFAR-10 Batch 1:  Batch Accuracy: 0.6250, Loss: 5643.43\n",
      "Epoch 10, CIFAR-10 Batch 2:  Batch Accuracy: 0.8500, Loss: 963.06\n",
      "Epoch 10, CIFAR-10 Batch 3:  Batch Accuracy: 0.8000, Loss: 1903.50\n",
      "Epoch 10, CIFAR-10 Batch 4:  Batch Accuracy: 0.8500, Loss: 1267.37\n",
      "Epoch 10, CIFAR-10 Batch 5:  Batch Accuracy: 0.7750, Loss: 2475.80\n",
      "Epoch 11, CIFAR-10 Batch 1:  Batch Accuracy: 0.7500, Loss: 4924.71\n",
      "Epoch 11, CIFAR-10 Batch 2:  Batch Accuracy: 0.9250, Loss: 466.02\n",
      "Epoch 11, CIFAR-10 Batch 3:  Batch Accuracy: 0.7750, Loss: 1216.39\n",
      "Epoch 11, CIFAR-10 Batch 4:  Batch Accuracy: 0.8000, Loss: 828.67\n",
      "Epoch 11, CIFAR-10 Batch 5:  Batch Accuracy: 0.8250, Loss: 1758.60\n",
      "Epoch 12, CIFAR-10 Batch 1:  Batch Accuracy: 0.7500, Loss: 4466.63\n",
      "Epoch 12, CIFAR-10 Batch 2:  Batch Accuracy: 0.9000, Loss: 421.88\n",
      "Epoch 12, CIFAR-10 Batch 3:  Batch Accuracy: 0.8750, Loss: 922.69\n",
      "Epoch 12, CIFAR-10 Batch 4:  Batch Accuracy: 0.8750, Loss: 437.64\n",
      "Epoch 12, CIFAR-10 Batch 5:  Batch Accuracy: 0.8500, Loss: 1006.60\n",
      "Epoch 13, CIFAR-10 Batch 1:  Batch Accuracy: 0.7500, Loss: 3968.95\n",
      "Epoch 13, CIFAR-10 Batch 2:  Batch Accuracy: 0.9000, Loss: 473.20\n",
      "Epoch 13, CIFAR-10 Batch 3:  Batch Accuracy: 0.9250, Loss: 574.35\n",
      "Epoch 13, CIFAR-10 Batch 4:  Batch Accuracy: 0.8750, Loss: 462.98\n",
      "Epoch 13, CIFAR-10 Batch 5:  Batch Accuracy: 0.8500, Loss: 1297.71\n",
      "Epoch 14, CIFAR-10 Batch 1:  Batch Accuracy: 0.8000, Loss: 2496.01\n",
      "Epoch 14, CIFAR-10 Batch 2:  Batch Accuracy: 0.9000, Loss: 250.04\n",
      "Epoch 14, CIFAR-10 Batch 3:  Batch Accuracy: 0.9000, Loss: 345.65\n",
      "Epoch 14, CIFAR-10 Batch 4:  Batch Accuracy: 0.9000, Loss: 247.17\n",
      "Epoch 14, CIFAR-10 Batch 5:  Batch Accuracy: 0.8750, Loss: 762.36\n",
      "Epoch 15, CIFAR-10 Batch 1:  Batch Accuracy: 0.7500, Loss: 2550.75\n",
      "Epoch 15, CIFAR-10 Batch 2:  Batch Accuracy: 0.9000, Loss: 318.96\n",
      "Epoch 15, CIFAR-10 Batch 3:  Batch Accuracy: 0.8750, Loss: 612.53\n",
      "Epoch 15, CIFAR-10 Batch 4:  Batch Accuracy: 0.9250, Loss: 164.53\n",
      "Epoch 15, CIFAR-10 Batch 5:  Batch Accuracy: 0.8750, Loss: 653.17\n",
      "Epoch 16, CIFAR-10 Batch 1:  Batch Accuracy: 0.7500, Loss: 1774.82\n",
      "Epoch 16, CIFAR-10 Batch 2:  Batch Accuracy: 0.9250, Loss: 363.48\n",
      "Epoch 16, CIFAR-10 Batch 3:  Batch Accuracy: 0.8000, Loss: 1076.38\n",
      "Epoch 16, CIFAR-10 Batch 4:  Batch Accuracy: 0.9500, Loss: 158.47\n",
      "Epoch 16, CIFAR-10 Batch 5:  Batch Accuracy: 0.8250, Loss: 734.55\n",
      "Epoch 17, CIFAR-10 Batch 1:  Batch Accuracy: 0.7750, Loss: 1541.77\n",
      "Epoch 17, CIFAR-10 Batch 2:  Batch Accuracy: 1.0000, Loss:   0.00\n",
      "Epoch 17, CIFAR-10 Batch 3:  Batch Accuracy: 0.9250, Loss: 425.63\n",
      "Epoch 17, CIFAR-10 Batch 4:  Batch Accuracy: 0.9000, Loss: 221.11\n",
      "Epoch 17, CIFAR-10 Batch 5:  Batch Accuracy: 0.7500, Loss: 1096.18\n",
      "Epoch 18, CIFAR-10 Batch 1:  Batch Accuracy: 0.8000, Loss: 1463.39\n",
      "Epoch 18, CIFAR-10 Batch 2:  Batch Accuracy: 1.0000, Loss:   0.00\n",
      "Epoch 18, CIFAR-10 Batch 3:  Batch Accuracy: 0.8750, Loss: 503.86\n",
      "Epoch 18, CIFAR-10 Batch 4:  Batch Accuracy: 0.8000, Loss: 416.29\n",
      "Epoch 18, CIFAR-10 Batch 5:  Batch Accuracy: 0.7750, Loss: 655.63\n",
      "Epoch 19, CIFAR-10 Batch 1:  Batch Accuracy: 0.8250, Loss: 943.49\n",
      "Epoch 19, CIFAR-10 Batch 2:  Batch Accuracy: 1.0000, Loss:   0.00\n",
      "Epoch 19, CIFAR-10 Batch 3:  Batch Accuracy: 0.8500, Loss: 533.70\n",
      "Epoch 19, CIFAR-10 Batch 4:  Batch Accuracy: 0.9250, Loss: 134.40\n",
      "Epoch 19, CIFAR-10 Batch 5:  Batch Accuracy: 0.8750, Loss: 310.68\n",
      "Epoch 20, CIFAR-10 Batch 1:  Batch Accuracy: 0.8500, Loss: 548.56\n",
      "Epoch 20, CIFAR-10 Batch 2:  Batch Accuracy: 1.0000, Loss:   0.00\n",
      "Epoch 20, CIFAR-10 Batch 3:  Batch Accuracy: 0.9000, Loss: 266.06\n",
      "Epoch 20, CIFAR-10 Batch 4:  Batch Accuracy: 0.9750, Loss:  50.04\n",
      "Epoch 20, CIFAR-10 Batch 5:  Batch Accuracy: 0.9500, Loss: 253.41\n",
      "Epoch 21, CIFAR-10 Batch 1:  Batch Accuracy: 0.8000, Loss: 792.69\n",
      "Epoch 21, CIFAR-10 Batch 2:  Batch Accuracy: 1.0000, Loss:   0.00\n",
      "Epoch 21, CIFAR-10 Batch 3:  Batch Accuracy: 0.9250, Loss: 100.58\n",
      "Epoch 21, CIFAR-10 Batch 4:  Batch Accuracy: 0.9500, Loss:  65.04\n",
      "Epoch 21, CIFAR-10 Batch 5:  Batch Accuracy: 0.8750, Loss: 400.42\n",
      "Epoch 22, CIFAR-10 Batch 1:  Batch Accuracy: 0.8500, Loss: 368.60\n",
      "Epoch 22, CIFAR-10 Batch 2:  Batch Accuracy: 0.9750, Loss:  68.32\n",
      "Epoch 22, CIFAR-10 Batch 3:  Batch Accuracy: 0.9250, Loss:  24.32\n",
      "Epoch 22, CIFAR-10 Batch 4:  Batch Accuracy: 0.9750, Loss:  12.42\n",
      "Epoch 22, CIFAR-10 Batch 5:  Batch Accuracy: 0.9000, Loss: 252.54\n",
      "Epoch 23, CIFAR-10 Batch 1:  Batch Accuracy: 0.8500, Loss: 445.43\n",
      "Epoch 23, CIFAR-10 Batch 2:  Batch Accuracy: 0.9500, Loss:  44.07\n",
      "Epoch 23, CIFAR-10 Batch 3:  Batch Accuracy: 0.9750, Loss:  29.91\n",
      "Epoch 23, CIFAR-10 Batch 4:  Batch Accuracy: 1.0000, Loss:   0.00\n",
      "Epoch 23, CIFAR-10 Batch 5:  Batch Accuracy: 0.9250, Loss: 172.65\n",
      "Epoch 24, CIFAR-10 Batch 1:  Batch Accuracy: 0.8750, Loss: 701.89\n",
      "Epoch 24, CIFAR-10 Batch 2:  Batch Accuracy: 0.9750, Loss:  80.86\n",
      "Epoch 24, CIFAR-10 Batch 3:  Batch Accuracy: 1.0000, Loss:   0.00\n",
      "Epoch 24, CIFAR-10 Batch 4:  Batch Accuracy: 0.9250, Loss: 172.65\n",
      "Epoch 24, CIFAR-10 Batch 5:  Batch Accuracy: 0.9250, Loss: 166.77\n",
      "Epoch 25, CIFAR-10 Batch 1:  Batch Accuracy: 0.9000, Loss: 739.24\n",
      "Epoch 25, CIFAR-10 Batch 2:  Batch Accuracy: 1.0000, Loss:   0.00\n",
      "Epoch 25, CIFAR-10 Batch 3:  Batch Accuracy: 1.0000, Loss:   0.00\n",
      "Epoch 25, CIFAR-10 Batch 4:  Batch Accuracy: 0.9750, Loss:  19.43\n",
      "Epoch 25, CIFAR-10 Batch 5:  Batch Accuracy: 0.9250, Loss: 120.16\n",
      "Epoch 26, CIFAR-10 Batch 1:  Batch Accuracy: 0.9000, Loss: 482.96\n",
      "Epoch 26, CIFAR-10 Batch 2:  Batch Accuracy: 0.9250, Loss:  56.43\n",
      "Epoch 26, CIFAR-10 Batch 3:  Batch Accuracy: 1.0000, Loss:   0.00\n",
      "Epoch 26, CIFAR-10 Batch 4:  Batch Accuracy: 1.0000, Loss:   0.00\n",
      "Epoch 26, CIFAR-10 Batch 5:  Batch Accuracy: 0.9750, Loss:   6.27\n",
      "Epoch 27, CIFAR-10 Batch 1:  Batch Accuracy: 0.9250, Loss: 317.98\n",
      "Epoch 27, CIFAR-10 Batch 2:  Batch Accuracy: 0.9500, Loss: 106.54\n",
      "Epoch 27, CIFAR-10 Batch 3:  Batch Accuracy: 1.0000, Loss:   0.00\n",
      "Epoch 27, CIFAR-10 Batch 4:  Batch Accuracy: 1.0000, Loss:   0.00\n",
      "Epoch 27, CIFAR-10 Batch 5:  Batch Accuracy: 0.9250, Loss: 113.72\n",
      "Epoch 28, CIFAR-10 Batch 1:  Batch Accuracy: 0.9250, Loss: 353.09\n",
      "Epoch 28, CIFAR-10 Batch 2:  Batch Accuracy: 0.9500, Loss: 105.81\n",
      "Epoch 28, CIFAR-10 Batch 3:  Batch Accuracy: 0.9750, Loss:   6.05\n",
      "Epoch 28, CIFAR-10 Batch 4:  Batch Accuracy: 0.9500, Loss:  64.05\n",
      "Epoch 28, CIFAR-10 Batch 5:  Batch Accuracy: 0.9500, Loss:  24.60\n",
      "Epoch 29, CIFAR-10 Batch 1:  Batch Accuracy: 0.9500, Loss: 229.73\n",
      "Epoch 29, CIFAR-10 Batch 2:  Batch Accuracy: 1.0000, Loss:   0.00\n",
      "Epoch 29, CIFAR-10 Batch 3:  Batch Accuracy: 1.0000, Loss:   0.00\n",
      "Epoch 29, CIFAR-10 Batch 4:  Batch Accuracy: 1.0000, Loss:   0.00\n",
      "Epoch 29, CIFAR-10 Batch 5:  Batch Accuracy: 0.9500, Loss:  24.02\n",
      "Epoch 30, CIFAR-10 Batch 1:  Batch Accuracy: 0.9000, Loss:  16.05\n",
      "Epoch 30, CIFAR-10 Batch 2:  Batch Accuracy: 0.9500, Loss: 102.34\n",
      "Epoch 30, CIFAR-10 Batch 3:  Batch Accuracy: 0.9250, Loss:  39.62\n",
      "Epoch 30, CIFAR-10 Batch 4:  Batch Accuracy: 0.9500, Loss:  44.71\n",
      "Epoch 30, CIFAR-10 Batch 5:  Batch Accuracy: 0.9750, Loss:  27.46\n"
     ]
    }
   ],
   "source": [
    "\"\"\"\n",
    "DON'T MODIFY ANYTHING IN THIS CELL\n",
    "\"\"\"\n",
    "save_model_path = './image_classification'\n",
    "\n",
    "print('Training...')\n",
    "with tf.Session() as sess:\n",
    "    # Initializing the variables\n",
    "    sess.run(tf.global_variables_initializer())\n",
    "    \n",
    "    # Training cycle\n",
    "    for epoch in range(epochs):\n",
    "        # Loop over all batches\n",
    "        n_batches = 5\n",
    "        for batch_i in range(1, n_batches + 1):\n",
    "            for batch_features, batch_labels in helper.load_preprocess_training_batch(batch_i, batch_size):\n",
    "                train_neural_network(sess, optimizer, keep_probability, batch_features, batch_labels)\n",
    "            print('Epoch {:>2}, CIFAR-10 Batch {}:  '.format(epoch + 1, batch_i), end='')\n",
    "            print_stats(sess, batch_features, batch_labels, cost, accuracy)\n",
    "            \n",
    "    # Save Model\n",
    "    saver = tf.train.Saver()\n",
    "    save_path = saver.save(sess, save_model_path)"
   ]
  },
  {
   "cell_type": "markdown",
   "metadata": {},
   "source": [
    "# Checkpoint\n",
    "The model has been saved to disk.\n",
    "## Test Model\n",
    "Test your model against the test dataset.  This will be your final accuracy. You should have an accuracy greater than 50%. If you don't, keep tweaking the model architecture and parameters."
   ]
  },
  {
   "cell_type": "code",
   "execution_count": 351,
   "metadata": {
    "collapsed": false
   },
   "outputs": [
    {
     "name": "stdout",
     "output_type": "stream",
     "text": [
      "Testing Accuracy: 0.51982421875\n",
      "\n"
     ]
    },
    {
     "data": {
      "image/png": "[encoded data removed]",
      "text/plain": [
       "<matplotlib.figure.Figure at 0x7f27e1d5f320>"
      ]
     },
     "metadata": {
      "image/png": {
       "height": 319,
       "width": 349
      }
     },
     "output_type": "display_data"
    }
   ],
   "source": [
    "\"\"\"\n",
    "DON'T MODIFY ANYTHING IN THIS CELL\n",
    "\"\"\"\n",
    "%matplotlib inline\n",
    "%config InlineBackend.figure_format = 'retina'\n",
    "\n",
    "import tensorflow as tf\n",
    "import pickle\n",
    "import helper\n",
    "import random\n",
    "\n",
    "# Set batch size if not already set\n",
    "try:\n",
    "    if batch_size:\n",
    "        pass\n",
    "except NameError:\n",
    "    batch_size = 64\n",
    "\n",
    "save_model_path = './image_classification'\n",
    "n_samples = 4\n",
    "top_n_predictions = 3\n",
    "\n",
    "def test_model():\n",
    "    \"\"\"\n",
    "    Test the saved model against the test dataset\n",
    "    \"\"\"\n",
    "\n",
    "    test_features, test_labels = pickle.load(open('preprocess_training.p', mode='rb'))\n",
    "    loaded_graph = tf.Graph()\n",
    "\n",
    "    with tf.Session(graph=loaded_graph) as sess:\n",
    "        # Load model\n",
    "        loader = tf.train.import_meta_graph(save_model_path + '.meta')\n",
    "        loader.restore(sess, save_model_path)\n",
    "\n",
    "        # Get Tensors from loaded model\n",
    "        loaded_x = loaded_graph.get_tensor_by_name('x:0')\n",
    "        loaded_y = loaded_graph.get_tensor_by_name('y:0')\n",
    "        loaded_keep_prob = loaded_graph.get_tensor_by_name('keep_prob:0')\n",
    "        loaded_logits = loaded_graph.get_tensor_by_name('logits:0')\n",
    "        loaded_acc = loaded_graph.get_tensor_by_name('accuracy:0')\n",
    "        \n",
    "        # Get accuracy in batches for memory limitations\n",
    "        test_batch_acc_total = 0\n",
    "        test_batch_count = 0\n",
    "        \n",
    "        for train_feature_batch, train_label_batch in helper.batch_features_labels(test_features, test_labels, batch_size):\n",
    "            test_batch_acc_total += sess.run(\n",
    "                loaded_acc,\n",
    "                feed_dict={loaded_x: train_feature_batch, loaded_y: train_label_batch, loaded_keep_prob: 1.0})\n",
    "            test_batch_count += 1\n",
    "\n",
    "        print('Testing Accuracy: {}\\n'.format(test_batch_acc_total/test_batch_count))\n",
    "\n",
    "        # Print Random Samples\n",
    "        random_test_features, random_test_labels = tuple(zip(*random.sample(list(zip(test_features, test_labels)), n_samples)))\n",
    "        random_test_predictions = sess.run(\n",
    "            tf.nn.top_k(tf.nn.softmax(loaded_logits), top_n_predictions),\n",
    "            feed_dict={loaded_x: random_test_features, loaded_y: random_test_labels, loaded_keep_prob: 1.0})\n",
    "        helper.display_image_predictions(random_test_features, random_test_labels, random_test_predictions)\n",
    "\n",
    "\n",
    "test_model()"
   ]
  },
  {
   "cell_type": "markdown",
   "metadata": {},
   "source": [
    "## Why 50-70% Accuracy?\n",
    "You might be wondering why you can't get an accuracy any higher. First things first, 50% isn't bad for a simple CNN.  Pure guessing would get you 10% accuracy. However, you might notice people are getting scores [well above 70%](http://rodrigob.github.io/are_we_there_yet/build/classification_datasets_results.html#43494641522d3130).  That's because we haven't taught you all there is to know about neural networks. We still need to cover a few more techniques.\n",
    "## Submitting This Project\n",
    "When submitting this project, make sure to run all the cells before saving the notebook.  Save the notebook file as \"dlnd_image_classification.ipynb\" and save it as a HTML file under \"File\" -> \"Download as\".  Include the \"helper.py\" and \"problem_unittests.py\" files in your submission."
   ]
  },
  {
   "cell_type": "code",
   "execution_count": null,
   "metadata": {
    "collapsed": true
   },
   "outputs": [],
   "source": []
  }
 ],
 "metadata": {
  "kernelspec": {
   "display_name": "Python 3",
   "language": "python",
   "name": "python3"
  },
  "language_info": {
   "codemirror_mode": {
    "name": "ipython",
    "version": 3
   },
   "file_extension": ".py",
   "mimetype": "text/x-python",
   "name": "python",
   "nbconvert_exporter": "python",
   "pygments_lexer": "ipython3",
   "version": "3.5.2"
  }
 },
 "nbformat": 4,
 "nbformat_minor": 0
}
